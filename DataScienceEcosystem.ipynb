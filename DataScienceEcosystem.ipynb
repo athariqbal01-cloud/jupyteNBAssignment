{
 "cells": [
  {
   "cell_type": "markdown",
   "id": "9603e931-451f-4877-91ef-b00c59f13971",
   "metadata": {
    "panel-layout": {
     "height": 60.5938,
     "visible": true,
     "width": 100
    }
   },
   "source": [
    "# Data Science Tools and Ecosystem"
   ]
  },
  {
   "cell_type": "markdown",
   "id": "c60299d3-c03d-4c06-87a7-6d8c75ed24f4",
   "metadata": {
    "panel-layout": {
     "height": 60.5938,
     "visible": true,
     "width": 100
    }
   },
   "source": [
    "# In this notebook, Data Science Tools and Ecosystem are summarized."
   ]
  },
  {
   "cell_type": "markdown",
   "id": "338849b5-0ecf-4340-b6b2-021da61a4a64",
   "metadata": {
    "panel-layout": {
     "height": 148.812,
     "visible": true,
     "width": 100
    }
   },
   "source": [
    "Some of the popular languages that Data Scientists use are:\n",
    "1. Python\n",
    "2. Java\n",
    "3. C\n",
    "4. C++\n",
    "5. Julia"
   ]
  },
  {
   "cell_type": "markdown",
   "id": "41a858e6-628d-4811-bcc1-3c9349dbed64",
   "metadata": {
    "panel-layout": {
     "height": 10,
     "visible": true,
     "width": 100
    }
   },
   "source": [
    "Some of the commonly used libraries used by Data Scientists include:\n",
    "1. NumPy\n",
    "2. Pandas\n",
    "3. Matplotlib\n",
    "4. Seaborn\n",
    "5. Plotly\n",
    "6. Scikit-Learn"
   ]
  },
  {
   "cell_type": "code",
   "execution_count": null,
   "id": "e1fe3973-8fab-46f8-a626-014e192b393e",
   "metadata": {
    "panel-layout": {
     "height": 121.875,
     "visible": true,
     "width": 100
    }
   },
   "outputs": [],
   "source": [
    "| Data Science Tools      |\n",
    "|-------------------------|\n",
    "| Jupyter Notebook        |\n",
    "| RStudio                 |\n",
    "| Apache Zeppelin         |\n"
   ]
  },
  {
   "cell_type": "markdown",
   "id": "2dc7baac-fe24-4f83-af82-48dfc4a0d921",
   "metadata": {
    "panel-layout": {
     "height": 44.0729,
     "visible": true,
     "width": 100
    }
   },
   "source": [
    "### Below are a few examples of evaluating arithmetic expressions in Python"
   ]
  },
  {
   "cell_type": "code",
   "execution_count": 48,
   "id": "197a13cf-aaec-4874-b71a-698d42062d4e",
   "metadata": {},
   "outputs": [
    {
     "data": {
      "text/plain": [
       "17"
      ]
     },
     "execution_count": 48,
     "metadata": {},
     "output_type": "execute_result"
    }
   ],
   "source": [
    "# This a simple arithmetic expression to mutiply then add integers\n",
    "\n",
    "(3*4)+5"
   ]
  },
  {
   "cell_type": "code",
   "execution_count": 50,
   "id": "bed974e1-af64-4b1a-b9ea-c35c5a7cdc28",
   "metadata": {},
   "outputs": [
    {
     "data": {
      "text/plain": [
       "3.3333333333333335"
      ]
     },
     "execution_count": 50,
     "metadata": {},
     "output_type": "execute_result"
    }
   ],
   "source": [
    "# This will convert 200 minutes to hours by diving by 60\n",
    "\n",
    "200/60"
   ]
  },
  {
   "cell_type": "markdown",
   "id": "a97b2aa4-d6c8-428d-ba9f-8bf3e9992aa0",
   "metadata": {},
   "source": [
    "#### Objectives\n",
    "\n",
    "- List popular languages for Data Science\n",
    "- Commonly used libraries in Data Science\n",
    "- List of Popular Data Science Tools\n",
    "- Code sample for mathematic operations"
   ]
  },
  {
   "cell_type": "markdown",
   "id": "cbcc6357-8038-43ca-a3fe-a349e2edf061",
   "metadata": {},
   "source": [
    "## Author:\n",
    "Athar Iqbal"
   ]
  },
  {
   "cell_type": "code",
   "execution_count": null,
   "id": "7ce2ccff-d44f-4f6d-a287-fd4d1e180db3",
   "metadata": {},
   "outputs": [],
   "source": []
  }
 ],
 "metadata": {
  "kernelspec": {
   "display_name": "Python [conda env:base] *",
   "language": "python",
   "name": "conda-base-py"
  },
  "language_info": {
   "codemirror_mode": {
    "name": "ipython",
    "version": 3
   },
   "file_extension": ".py",
   "mimetype": "text/x-python",
   "name": "python",
   "nbconvert_exporter": "python",
   "pygments_lexer": "ipython3",
   "version": "3.12.7"
  },
  "panel-cell-order": [
   "036780cf-4efd-4fcd-8d42-b1825edd892e",
   "adfc88a8-3f20-4902-892d-da84ec73f442",
   "6494db8d-af59-4a7c-9a07-6eb767f1f41e",
   "8bc5b731-ed05-435c-af2a-cca24e0e9ae6",
   "cca3ccc3-24c1-47f8-aab4-81e9e9d80301",
   "2dc7baac-fe24-4f83-af82-48dfc4a0d921"
  ]
 },
 "nbformat": 4,
 "nbformat_minor": 5
}
